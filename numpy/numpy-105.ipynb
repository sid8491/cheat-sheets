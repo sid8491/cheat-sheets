{
 "cells": [
  {
   "cell_type": "code",
   "execution_count": 1,
   "id": "b50560eb",
   "metadata": {},
   "outputs": [],
   "source": [
    "import numpy as np"
   ]
  },
  {
   "cell_type": "markdown",
   "id": "24cf2f7f",
   "metadata": {},
   "source": [
    "## load file data"
   ]
  },
  {
   "cell_type": "code",
   "execution_count": 3,
   "id": "34c77387",
   "metadata": {},
   "outputs": [
    {
     "name": "stdout",
     "output_type": "stream",
     "text": [
      "[[  1.   2.   3.   4.   5.   6.   7.   8.   9.   0.]\n",
      " [ 21.  23.  21.  54.  43.  32.  21.  43.  76.  34.]\n",
      " [ 44.  33.  22.  43.  87. 999.  98.  21. 244.  55.]]\n"
     ]
    }
   ],
   "source": [
    "filedata = np.genfromtxt('data.txt', delimiter=',')\n",
    "print(filedata)"
   ]
  },
  {
   "cell_type": "code",
   "execution_count": 4,
   "id": "a4e00614",
   "metadata": {},
   "outputs": [
    {
     "name": "stdout",
     "output_type": "stream",
     "text": [
      "[[  1   2   3   4   5   6   7   8   9   0]\n",
      " [ 21  23  21  54  43  32  21  43  76  34]\n",
      " [ 44  33  22  43  87 999  98  21 244  55]]\n"
     ]
    }
   ],
   "source": [
    "print(filedata.astype('int32'))"
   ]
  },
  {
   "cell_type": "markdown",
   "id": "d486c6e2",
   "metadata": {},
   "source": [
    "## advance indexing"
   ]
  },
  {
   "cell_type": "code",
   "execution_count": 5,
   "id": "4a4039f3",
   "metadata": {},
   "outputs": [
    {
     "data": {
      "text/plain": [
       "array([[False, False, False, False, False, False, False, False, False,\n",
       "        False],\n",
       "       [False, False, False,  True, False, False, False, False,  True,\n",
       "        False],\n",
       "       [False, False, False, False,  True,  True,  True, False,  True,\n",
       "         True]])"
      ]
     },
     "execution_count": 5,
     "metadata": {},
     "output_type": "execute_result"
    }
   ],
   "source": [
    "filedata > 50"
   ]
  },
  {
   "cell_type": "code",
   "execution_count": 6,
   "id": "3b7e739f",
   "metadata": {},
   "outputs": [
    {
     "data": {
      "text/plain": [
       "array([ 54.,  76.,  87., 999.,  98., 244.,  55.])"
      ]
     },
     "execution_count": 6,
     "metadata": {},
     "output_type": "execute_result"
    }
   ],
   "source": [
    "filedata[filedata > 50]"
   ]
  },
  {
   "cell_type": "code",
   "execution_count": 10,
   "id": "dfd21087",
   "metadata": {},
   "outputs": [
    {
     "name": "stdout",
     "output_type": "stream",
     "text": [
      "[ 2  3  4 21 23 45]\n"
     ]
    },
    {
     "data": {
      "text/plain": [
       "array([ 2,  4, 45])"
      ]
     },
     "execution_count": 10,
     "metadata": {},
     "output_type": "execute_result"
    }
   ],
   "source": [
    "a = np.array([2,3,4 ,21,23,45])\n",
    "print(a)\n",
    "a[[0, 2, 5]]"
   ]
  },
  {
   "cell_type": "code",
   "execution_count": 19,
   "id": "7f58a28d",
   "metadata": {},
   "outputs": [
    {
     "name": "stdout",
     "output_type": "stream",
     "text": [
      "[[ 1  2  3  4  5]\n",
      " [ 6  7  8  9 10]\n",
      " [11 12 13 14 15]\n",
      " [16 17 18 19 20]\n",
      " [21 22 23 24 25]\n",
      " [26 27 28 29 30]]\n"
     ]
    }
   ],
   "source": [
    "res = np.genfromtxt('data2.txt', delimiter=',').astype('int32')\n",
    "print(res)"
   ]
  },
  {
   "cell_type": "code",
   "execution_count": 21,
   "id": "bf04a4f5",
   "metadata": {},
   "outputs": [
    {
     "data": {
      "text/plain": [
       "array([[11, 12],\n",
       "       [16, 17]])"
      ]
     },
     "execution_count": 21,
     "metadata": {},
     "output_type": "execute_result"
    }
   ],
   "source": [
    "res[2:4, 0:2]"
   ]
  },
  {
   "cell_type": "code",
   "execution_count": 23,
   "id": "8dc8c12d",
   "metadata": {},
   "outputs": [
    {
     "data": {
      "text/plain": [
       "array([ 2,  8, 14, 20])"
      ]
     },
     "execution_count": 23,
     "metadata": {},
     "output_type": "execute_result"
    }
   ],
   "source": [
    "res[[0,1,2,3], [1,2,3,4]]"
   ]
  },
  {
   "cell_type": "code",
   "execution_count": 28,
   "id": "ee782e6f",
   "metadata": {},
   "outputs": [
    {
     "data": {
      "text/plain": [
       "array([ 4,  5, 24, 25, 29, 30])"
      ]
     },
     "execution_count": 28,
     "metadata": {},
     "output_type": "execute_result"
    }
   ],
   "source": [
    "res[[0,0,4,4,5,5], [3,4,3,4,3,4]]"
   ]
  },
  {
   "cell_type": "code",
   "execution_count": 29,
   "id": "9b848fc3",
   "metadata": {},
   "outputs": [
    {
     "data": {
      "text/plain": [
       "array([[ 4,  5],\n",
       "       [24, 25],\n",
       "       [29, 30]])"
      ]
     },
     "execution_count": 29,
     "metadata": {},
     "output_type": "execute_result"
    }
   ],
   "source": [
    "res[[0,4,5], 3:]"
   ]
  },
  {
   "cell_type": "code",
   "execution_count": 30,
   "id": "ec1bc81d",
   "metadata": {},
   "outputs": [
    {
     "data": {
      "text/plain": [
       "array([[ 2,  3,  4,  5],\n",
       "       [ 7,  8,  9, 10],\n",
       "       [12, 13, 14, 15],\n",
       "       [17, 18, 19, 20]])"
      ]
     },
     "execution_count": 30,
     "metadata": {},
     "output_type": "execute_result"
    }
   ],
   "source": [
    "res[0:4, 1:5]"
   ]
  },
  {
   "cell_type": "code",
   "execution_count": null,
   "id": "60b920ac",
   "metadata": {},
   "outputs": [],
   "source": []
  }
 ],
 "metadata": {
  "kernelspec": {
   "display_name": "Python 3",
   "language": "python",
   "name": "python3"
  },
  "language_info": {
   "codemirror_mode": {
    "name": "ipython",
    "version": 3
   },
   "file_extension": ".py",
   "mimetype": "text/x-python",
   "name": "python",
   "nbconvert_exporter": "python",
   "pygments_lexer": "ipython3",
   "version": "3.8.5"
  }
 },
 "nbformat": 4,
 "nbformat_minor": 5
}
